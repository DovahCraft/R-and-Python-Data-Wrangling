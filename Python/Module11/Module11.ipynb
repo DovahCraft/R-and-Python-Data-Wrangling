{
 "metadata": {
  "language_info": {
   "codemirror_mode": {
    "name": "ipython",
    "version": 3
   },
   "file_extension": ".py",
   "mimetype": "text/x-python",
   "name": "python",
   "nbconvert_exporter": "python",
   "pygments_lexer": "ipython3",
   "version": "3.8.3-final"
  },
  "orig_nbformat": 2,
  "kernelspec": {
   "name": "Python 3.8.3 64-bit ('base': conda)",
   "display_name": "Python 3.8.3 64-bit ('base': conda)",
   "metadata": {
    "interpreter": {
     "hash": "d688fef97cee6022be7601baee37833edb40567839e1dc4c10769ccdd01179eb"
    }
   }
  }
 },
 "nbformat": 4,
 "nbformat_minor": 2,
 "cells": [
  {
   "source": [
    "## Author: Joseph Vargovich"
   ],
   "cell_type": "markdown",
   "metadata": {}
  },
  {
   "cell_type": "code",
   "execution_count": 2,
   "metadata": {},
   "outputs": [],
   "source": [
    "#import libraries\n",
    "import numpy as np\n",
    "import re"
   ]
  },
  {
   "source": [
    "# Exercise 1: Regular expression matching descriptions"
   ],
   "cell_type": "markdown",
   "metadata": {}
  },
  {
   "cell_type": "code",
   "execution_count": 19,
   "metadata": {
    "tags": []
   },
   "outputs": [
    {
     "output_type": "stream",
     "name": "stdout",
     "text": "[True, True, False, True, True, False, False, False]\n[True, True, False, False, True, False, False, False]\n[True, True, False, False, False, False, False, False]\n[True, True, False, True, False, False]\n[False, False, True, True, False, True, False]\n[True, True, True, True, False, False, True]\n[True, True, True, True, True]\n[True, False, False, True, False, False, True]\n[True, False, True, True, False, False, False, True]\n"
    }
   ],
   "source": [
    "#a. Finds a in the string\n",
    "strings = ['abab', 'ab', 'cb', 'cba', 'cab', 'd', 'cc', 'cfcds']\n",
    "output = []\n",
    "for i in strings:\n",
    "    output.append('a' in i)\n",
    "print(output)\n",
    "\n",
    "#b. Finds ab in the string\n",
    "strings = ['abab', 'ab', 'cb', 'cba', 'cab', 'd', 'cc', 'cfcds']\n",
    "output = []\n",
    "for i in strings:\n",
    "    output.append('ab' in i)\n",
    "print(output)\n",
    "\n",
    "#c. This matches strings that contain a or b.\n",
    "p = re.compile('[ab]')\n",
    "strings = ['abab', 'ab', 'cb', 'cba', 'cab', 'd', 'cc', 'cfcds']\n",
    "output = []\n",
    "for i in strings:\n",
    "    if(p.match(i)):\n",
    "        output.append(True)\n",
    "    else:\n",
    "        output.append(False)\n",
    "print(output)\n",
    "\n",
    "#d. This matches strings that begin with a or b.\n",
    "p = re.compile('^[ab]')\n",
    "strings = ['a', 'b', 'cb', 'bc', 'c', 'cd']\n",
    "output = []\n",
    "for i in strings:\n",
    "    if(p.match(i)):\n",
    "        output.append(True)\n",
    "    else:\n",
    "        output.append(False)\n",
    "print(output)\n",
    "\n",
    "#e. Begins with one or more digits and has a space separating them from an a or A.\n",
    "p = re.compile('\\\\d+\\\\s[aA]')\n",
    "strings = ['ab', '1a', '1 a', '121221323123434325324 a', 'a 1221', '12 Aa', '12 b']\n",
    "output = []\n",
    "for i in strings:\n",
    "    if(p.match(i)):\n",
    "        output.append(True)\n",
    "    else:\n",
    "        output.append(False)\n",
    "print(output)\n",
    "\n",
    "\n",
    "#f.  Begins with one or more digits and has 0 or more spaces seperating digits from a or A.\n",
    "p = re.compile('\\\\d+\\\\s*[aA]')\n",
    "strings = ['1212134a', '12231 a', '121323 A', '12213434A', '223443 B', 'aasdf 12', '12 aa']\n",
    "output = []\n",
    "for i in strings:\n",
    "    if(p.match(i)):\n",
    "        output.append(True)\n",
    "    else:\n",
    "        output.append(False)\n",
    "print(output)\n",
    "\n",
    "#g. Captures anything as . is a wildcard general capture. Can have any length due to the Kleene star operator.\n",
    "p = re.compile('.*')\n",
    "strings = ['Whatever', 'I', 'Want', '', 'dasfasdfsdffsdafdsfsadafds']\n",
    "output = []\n",
    "for i in strings:\n",
    "    if(p.match(i)):\n",
    "        output.append(True)\n",
    "    else:\n",
    "        output.append(False)\n",
    "print(output)\n",
    "\n",
    "\n",
    "#h. Begins with two alphanumeric characters and ends with bar.\n",
    "p = re.compile('^\\\\w{2}bar')\n",
    "strings = ['aabar', 'dasdfbar', 'bbar', 'bbbar', 'xyz', 'xyzbar', 'xybar']\n",
    "output = []\n",
    "for i in strings:\n",
    "    if(p.match(i)):\n",
    "        output.append(True)\n",
    "    else:\n",
    "        output.append(False)\n",
    "print(output)\n",
    "\n",
    "#i. Captures foo.bar OR two alphanumeric chars followed by bar \n",
    "p = re.compile('(foo\\\\.bar)|(^\\\\w{2}bar)')\n",
    "strings = ['foo.bar', 'foobar', 'aabar', 'aabar', 'bar.foo', 'sdaf', 'gxxxbar', 'gzbar']\n",
    "output = []\n",
    "for i in strings:\n",
    "    if(p.match(i)):\n",
    "        output.append(True)\n",
    "    else:\n",
    "        output.append(False)\n",
    "print(output)"
   ]
  },
  {
   "source": [
    "# Exercise 3: Gettysburg address parsing and average length."
   ],
   "cell_type": "markdown",
   "metadata": {}
  },
  {
   "cell_type": "code",
   "execution_count": 3,
   "metadata": {
    "tags": []
   },
   "outputs": [
    {
     "output_type": "stream",
     "name": "stdout",
     "text": "4.271375464684015\n"
    }
   ],
   "source": [
    "Gettysburg = \"\"\"Four score and seven years ago our fathers brought forth on this \n",
    "continent, a new nation, conceived in Liberty, and dedicated to the proposition \n",
    "that all men are created equal.\n",
    "\n",
    "Now we are engaged in a great civil war, testing whether that nation, or any \n",
    "nation so conceived and so dedicated, can long endure. We are met on a great \n",
    "battle-field of that war. We have come to dedicate a portion of that field, as \n",
    "a final resting place for those who here gave their lives that that nation might \n",
    "live. It is altogether fitting and proper that we should do this.\n",
    "\n",
    "But, in a larger sense, we can not dedicate -- we can not consecrate -- we can \n",
    "not hallow -- this ground. The brave men, living and dead, who struggled here, \n",
    "have consecrated it, far above our poor power to add or detract. The world will \n",
    "little note, nor long remember what we say here, but it can never forget what \n",
    "they did here. It is for us the living, rather, to be dedicated here to the \n",
    "unfinished work which they who fought here have thus far so nobly advanced. It \n",
    "is rather for us to be here dedicated to the great task remaining before us -- \n",
    "that from these honored dead we take increased devotion to that cause for which \n",
    "they gave the last full measure of devotion -- that we here highly resolve that \n",
    "these dead shall not have died in vain -- that this nation, under God, shall \n",
    "have a new birth of freedom -- and that government of the people, by the people, \n",
    "for the people, shall not perish from the earth.\"\"\"\n",
    "\n",
    "#Make a list of characters we do not want.\n",
    "bad_chars = ['.', ',', '?', '!', '-', \"\\n\"]\n",
    "\n",
    "#Remove our bad characters from any word they appear.\n",
    "for i in bad_chars:\n",
    "    Gettysburg = Gettysburg.replace(i,'')\n",
    "\n",
    "str_list = re.split(\"\\s+\", Gettysburg)\n",
    "\n",
    "#The filter function returns an iterator that is\n",
    "#  converted to a list where the condition holds true in the lambda function\n",
    "filtered_it= filter(lambda item: item != '', str_list )\n",
    "filtered_list = list(filtered_it)\n",
    "\n",
    "str_lens = []\n",
    "#Build our length list\n",
    "for i in filtered_list:\n",
    "    str_lens.append(len(i))\n",
    "\n",
    "#Find the average str length.\n",
    "print(np.mean(str_lens))"
   ]
  },
  {
   "source": [
    "# Exercise 4 - Creating a variable name regular expression."
   ],
   "cell_type": "markdown",
   "metadata": {}
  },
  {
   "cell_type": "code",
   "execution_count": 43,
   "metadata": {
    "tags": []
   },
   "outputs": [
    {
     "output_type": "stream",
     "name": "stdout",
     "text": "[True, True, True, True, True, True, False, False]\n[True, True, False, True, False, False, False, False]\n"
    }
   ],
   "source": [
    "#a. Write a regex to determine if a string starts with a character (upper or lower case) or underscore and then is followed by zero or more numbers\n",
    "p = re.compile('^[\\\\w|\\\\W|_][0-9a-zA-Z\\\\._]*$')\n",
    "strings = ['foo15', 'Bar', '.resid', '_14s', \n",
    "             '99_Bottles', '.9Arggh', 'Foo!','HIV Rate']\n",
    "output = []\n",
    "for i in strings:\n",
    "    if(p.match(i)):\n",
    "        output.append(True)\n",
    "    else:\n",
    "        output.append(False)\n",
    "print(output)\n",
    "\n",
    "#b. Modify regex so the first group can only be [a-zA-Z_]\n",
    "p = re.compile('^[a-zA-Z_][0-9a-zA-Z\\\\._]*$')\n",
    "strings = ['foo15', 'Bar', '.resid', '_14s', \n",
    "             '99_Bottles', '.9Arggh', 'Foo!','HIV Rate']\n",
    "output = []\n",
    "for i in strings:\n",
    "    if(p.match(i)):\n",
    "        output.append(True)\n",
    "    else:\n",
    "        output.append(False)\n",
    "print(output)"
   ]
  }
 ]
}