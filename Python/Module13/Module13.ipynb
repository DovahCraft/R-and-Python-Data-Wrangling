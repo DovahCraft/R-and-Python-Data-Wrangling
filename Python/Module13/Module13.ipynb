{
 "metadata": {
  "language_info": {
   "codemirror_mode": {
    "name": "ipython",
    "version": 3
   },
   "file_extension": ".py",
   "mimetype": "text/x-python",
   "name": "python",
   "nbconvert_exporter": "python",
   "pygments_lexer": "ipython3",
   "version": "3.8.3-final"
  },
  "orig_nbformat": 2,
  "kernelspec": {
   "name": "python3",
   "display_name": "Python 3.8.3 64-bit (conda)",
   "metadata": {
    "interpreter": {
     "hash": "d688fef97cee6022be7601baee37833edb40567839e1dc4c10769ccdd01179eb"
    }
   }
  }
 },
 "nbformat": 4,
 "nbformat_minor": 2,
 "cells": [
  {
   "source": [
    "## Author: Joseph Vargovich"
   ],
   "cell_type": "markdown",
   "metadata": {}
  },
  {
   "cell_type": "code",
   "execution_count": 2,
   "metadata": {},
   "outputs": [],
   "source": [
    "#Import libraries\n",
    "import pandas as pd\n",
    "import numpy as np"
   ]
  },
  {
   "source": [
    "# Exercise 1 - Table for gender and year combinations."
   ],
   "cell_type": "markdown",
   "metadata": {}
  },
  {
   "source": [
    "#a. Load the data, na_values in the list will be removed. '' and ' ' are na values now.\n",
    "Survey = pd.read_csv(\"http://www.lock5stat.com/datasets/StudentSurvey.csv\", na_values=['', ' '])\n",
    "Survey.head()\n",
    "\n",
    "#b. Cleanup and select what we need. \n",
    "Survey = Survey[['Year', 'Gender']]\n",
    "\n",
    "#Grab the amount of Female and Male Students in each Year. \n",
    "# Groupby will convert our dataframe into a Series object, ugh! \n",
    "Survey = Survey.groupby(['Gender', 'Year']).size()\n",
    "\n",
    "#Convert our Series back to a dataframe.\n",
    "Survey = Survey.to_frame(name = 'n').reset_index()\n",
    "print(Survey)\n",
    "\n",
    "#Create a pivot table\n",
    "pivotTable = Survey.pivot(index='Gender', columns='Year', values='n')\n",
    "#Set the column order\n",
    "pivotTable = pivotTable[['FirstYear', 'Sophomore', 'Junior', 'Senior']]\n",
    "#Set the row order\n",
    "pivotTable.reindex([\"M\", \"F\"]).head()"
   ],
   "cell_type": "code",
   "metadata": {},
   "execution_count": 14,
   "outputs": [
    {
     "output_type": "stream",
     "name": "stdout",
     "text": [
      "  Gender       Year   n\n0      F  FirstYear  43\n1      F     Junior  18\n2      F     Senior  10\n3      F  Sophomore  96\n4      M  FirstYear  51\n5      M     Junior  17\n6      M     Senior  26\n7      M  Sophomore  99\n"
     ]
    },
    {
     "output_type": "execute_result",
     "data": {
      "text/plain": [
       "Year    FirstYear  Sophomore  Junior  Senior\n",
       "Gender                                      \n",
       "M              51         99      17      26\n",
       "F              43         96      18      10"
      ],
      "text/html": "<div>\n<style scoped>\n    .dataframe tbody tr th:only-of-type {\n        vertical-align: middle;\n    }\n\n    .dataframe tbody tr th {\n        vertical-align: top;\n    }\n\n    .dataframe thead th {\n        text-align: right;\n    }\n</style>\n<table border=\"1\" class=\"dataframe\">\n  <thead>\n    <tr style=\"text-align: right;\">\n      <th>Year</th>\n      <th>FirstYear</th>\n      <th>Sophomore</th>\n      <th>Junior</th>\n      <th>Senior</th>\n    </tr>\n    <tr>\n      <th>Gender</th>\n      <th></th>\n      <th></th>\n      <th></th>\n      <th></th>\n    </tr>\n  </thead>\n  <tbody>\n    <tr>\n      <th>M</th>\n      <td>51</td>\n      <td>99</td>\n      <td>17</td>\n      <td>26</td>\n    </tr>\n    <tr>\n      <th>F</th>\n      <td>43</td>\n      <td>96</td>\n      <td>18</td>\n      <td>10</td>\n    </tr>\n  </tbody>\n</table>\n</div>"
     },
     "metadata": {},
     "execution_count": 14
    }
   ]
  },
  {
   "source": [
    "## Exercise 3 - Working with two simple data sets."
   ],
   "cell_type": "markdown",
   "metadata": {}
  },
  {
   "cell_type": "code",
   "execution_count": 71,
   "metadata": {},
   "outputs": [
    {
     "output_type": "stream",
     "name": "stdout",
     "text": [
      "      Name              Car\n0    Alice        Ford F150\n1      Bob  Tesla Model III\n2  Charlie           VW Bug\n\na. Concatted Tables: \n\n      Name              Car First.Name     Pet\n0    Alice        Ford F150        Bob     Cat\n1      Bob  Tesla Model III    Charlie     Dog\n2  Charlie           VW Bug      Alice  Rabbit\n\na. Joined Tables: \n\n      Name              Car First.Name     Pet\n0    Alice        Ford F150      Alice  Rabbit\n1      Bob  Tesla Model III        Bob     Cat\n2  Charlie           VW Bug    Charlie     Dog\n\nb. Table B with new entry: \n\n  First.Name         Pet\n0        Bob         Cat\n1    Charlie         Dog\n2      Alice      Rabbit\n0      Alice  Guinea Pig\n\nc. Concatted Tables: \n\n               Car     Name First.Name         Pet\n0        Ford F150    Alice        Bob         Cat\n1  Tesla Model III      Bob    Charlie         Dog\n2           VW Bug  Charlie      Alice      Rabbit\n0             None     None      Alice  Guinea Pig\n\nc. Joined Tables: \n\n               Car     Name First.Name         Pet\n0        Ford F150    Alice      Alice      Rabbit\n1        Ford F150    Alice      Alice  Guinea Pig\n2  Tesla Model III      Bob        Bob         Cat\n3           VW Bug  Charlie    Charlie         Dog\n4             None     None        NaN         NaN\n"
     ]
    }
   ],
   "source": [
    "ADict = {'Name': [\"Alice\", \"Bob\", \"Charlie\"], 'Car': [\"Ford F150\", \"Tesla Model III\", \"VW Bug\"]}\n",
    "BDict = {'First.Name': [\"Bob\", \"Charlie\", \"Alice\"], 'Pet': [\"Cat\", \"Dog\", \"Rabbit\"]}\n",
    "\n",
    "A = pd.DataFrame(data=ADict)\n",
    "print(A)\n",
    "B = pd.DataFrame(data=BDict)\n",
    "\n",
    "#a. Join together with pd.concat and join options.\n",
    "#Concat (like cbind on axis=1)\n",
    "result = pd.concat([A, B], axis=1, sort=False)\n",
    "print(\"\\na. Concatted Tables: \\n\" )\n",
    "print(result)\n",
    "\n",
    "result = A.merge(B, how='left',left_on='Name', right_on='First.Name')\n",
    "print(\"\\na. Joined Tables: \\n\" )\n",
    "print(result)\n",
    "\n",
    "#b. Add row for Alice's guinea pig to A\n",
    "guineaDict = {'First.Name': [\"Alice\"], 'Pet': [\"Guinea Pig\"]}\n",
    "guineaDf = pd.DataFrame(guineaDict)\n",
    "B = pd.concat([B, guineaDf], axis=0, sort=False)\n",
    "print(\"\\nb. Table B with new entry: \\n\" )\n",
    "print(B)\n",
    "\n",
    "#c. Combine the new dataframes together using concat and join. \n",
    "#Using concat without join logic, shaping errors will occur.\n",
    "placeholderDict = {'Name': [None], 'Car' : [None]}\n",
    "placeholderDf = pd.DataFrame(placeholderDict)\n",
    "A = pd.concat([A,placeholderDf], axis=0, sort=True)\n",
    "result = pd.concat([A, B], axis=1, sort=False) #This will error unless we add an None row to A.\n",
    "print(\"\\nc. Concatted Tables: \\n\" )\n",
    "print(result)\n",
    "\n",
    "#Using join, we can join with different shapes.\n",
    "result = A.merge(B, how='left',left_on='Name', right_on='First.Name')\n",
    "print(\"\\nc. Joined Tables: \\n\" )\n",
    "print(result)"
   ]
  },
  {
   "cell_type": "code",
   "execution_count": 26,
   "metadata": {},
   "outputs": [
    {
     "output_type": "stream",
     "name": "stdout",
     "text": [
      "First Dataframe\n      Name              Car\n0    Alice        Ford F150\n1      Bob  Tesla Model III\n2  Charlie           VW Bug\n\n\n\nSecond Dataframe\n  First.Name     Pet\n0        Bob     Cat\n1    Charlie     Dog\n2      Alice  Rabbit\n\n\n\n"
     ]
    }
   ],
   "source": [
    "#Dictionaries that define two pandas dataframes and their column->values mapping.\n",
    "firstDict = {'Name': [\"Alice\", \"Bob\", \"Charlie\"], 'Car': [\"Ford F150\", \"Tesla Model III\", \"VW Bug\"]}\n",
    "secondDict = {'First.Name': [\"Bob\", \"Charlie\", \"Alice\"], 'Pet': [\"Cat\", \"Dog\", \"Rabbit\"]}\n",
    "\n",
    "firstDf = pd.DataFrame(data=firstDict)\n",
    "print(\"First Dataframe\")\n",
    "print(firstDf)\n",
    "print(\"\\n\\n\")\n",
    "\n",
    "secondDf = pd.DataFrame(data=secondDict)\n",
    "print(\"Second Dataframe\")\n",
    "print(secondDf)\n",
    "print(\"\\n\\n\")"
   ]
  },
  {
   "cell_type": "code",
   "execution_count": 21,
   "metadata": {},
   "outputs": [
    {
     "output_type": "stream",
     "name": "stdout",
     "text": [
      "\n1. Concatted Tables: \n\n      Name              Car First.Name     Pet\n0    Alice        Ford F150        Bob     Cat\n1      Bob  Tesla Model III    Charlie     Dog\n2  Charlie           VW Bug      Alice  Rabbit\n\na. Joined Tables: \n\n      Name              Car First.Name     Pet\n0    Alice        Ford F150      Alice  Rabbit\n1      Bob  Tesla Model III        Bob     Cat\n2  Charlie           VW Bug    Charlie     Dog\n"
     ]
    }
   ],
   "source": [
    "#a. Join together with pd.concat and join options.\n",
    "#Concat (like cbind on axis=1)\n",
    "concatResult = pd.concat([firstDf, secondDf], axis=1, sort=False)\n",
    "print(\"\\n1. Concatted Tables: \\n\" )\n",
    "print(concatResult)\n",
    "\n",
    "#Same as above but using a LEFT JOIN operation\n",
    "joinResult = firstDf.merge(secondDf, how='left',left_on='Name', right_on='First.Name')\n",
    "print(\"\\na. Joined Tables: \\n\" )\n",
    "print(joinResult)"
   ]
  },
  {
   "cell_type": "code",
   "execution_count": null,
   "metadata": {},
   "outputs": [],
   "source": []
  }
 ]
}