{
 "metadata": {
  "language_info": {
   "codemirror_mode": {
    "name": "ipython",
    "version": 3
   },
   "file_extension": ".py",
   "mimetype": "text/x-python",
   "name": "python",
   "nbconvert_exporter": "python",
   "pygments_lexer": "ipython3",
   "version": "3.8.3-final"
  },
  "orig_nbformat": 2,
  "kernelspec": {
   "name": "Python 3.8.3 64-bit ('base': conda)",
   "display_name": "Python 3.8.3 64-bit ('base': conda)",
   "metadata": {
    "interpreter": {
     "hash": "d688fef97cee6022be7601baee37833edb40567839e1dc4c10769ccdd01179eb"
    }
   }
  }
 },
 "nbformat": 4,
 "nbformat_minor": 2,
 "cells": [
  {
   "source": [
    "## Author: Joseph Vargovich"
   ],
   "cell_type": "markdown",
   "metadata": {}
  },
  {
   "cell_type": "code",
   "execution_count": 2,
   "metadata": {},
   "outputs": [],
   "source": [
    "#Import libraries\n",
    "import pandas as pd"
   ]
  },
  {
   "source": [
    "# Exercise 1: Reading in an excel file with skipped lines."
   ],
   "cell_type": "markdown",
   "metadata": {}
  },
  {
   "cell_type": "code",
   "execution_count": 4,
   "metadata": {},
   "outputs": [
    {
     "output_type": "execute_result",
     "data": {
      "text/plain": "    Girth  Height  Volume\n26   17.5      82    55.7\n27   17.9      80    58.3\n28   18.0      80    51.5\n29   18.0      80    51.0\n30   20.6      87    77.0",
      "text/html": "<div>\n<style scoped>\n    .dataframe tbody tr th:only-of-type {\n        vertical-align: middle;\n    }\n\n    .dataframe tbody tr th {\n        vertical-align: top;\n    }\n\n    .dataframe thead th {\n        text-align: right;\n    }\n</style>\n<table border=\"1\" class=\"dataframe\">\n  <thead>\n    <tr style=\"text-align: right;\">\n      <th></th>\n      <th>Girth</th>\n      <th>Height</th>\n      <th>Volume</th>\n    </tr>\n  </thead>\n  <tbody>\n    <tr>\n      <th>26</th>\n      <td>17.5</td>\n      <td>82</td>\n      <td>55.7</td>\n    </tr>\n    <tr>\n      <th>27</th>\n      <td>17.9</td>\n      <td>80</td>\n      <td>58.3</td>\n    </tr>\n    <tr>\n      <th>28</th>\n      <td>18.0</td>\n      <td>80</td>\n      <td>51.5</td>\n    </tr>\n    <tr>\n      <th>29</th>\n      <td>18.0</td>\n      <td>80</td>\n      <td>51.0</td>\n    </tr>\n    <tr>\n      <th>30</th>\n      <td>20.6</td>\n      <td>87</td>\n      <td>77.0</td>\n    </tr>\n  </tbody>\n</table>\n</div>"
     },
     "metadata": {},
     "execution_count": 4
    }
   ],
   "source": [
    "#Pandas does this all quite well. Use the pandas.read_excel() function\n",
    "data1 = pd.read_excel(\"Example_5.xls\", \"RawData\", usecols=\"A:C\", skiprows=4)\n",
    "\n",
    "data1.tail() #The final element is 30 because the first row is numbered as 0."
   ]
  },
  {
   "source": [
    "# Exercise 2 - Reading in another excel spreadsheet and manipulating it."
   ],
   "cell_type": "markdown",
   "metadata": {}
  },
  {
   "cell_type": "code",
   "execution_count": 19,
   "metadata": {},
   "outputs": [
    {
     "output_type": "execute_result",
     "data": {
      "text/plain": "                 model   mpg  cyl disp     hp     drat     wt   qsec   vs  \\\n28      Ford Pantera L  15.8  8.0  351  264.0     4.22  3.170  14.50  0.0   \n29        Ferrari Dino  19.7  6.0  145  175.0     3.62  2.770  15.50  0.0   \n30       Maserati Bora  15.0  8.0  301  335.0     3.54  3.570  14.60  0.0   \n31          Volvo 142E  21.4  4.0  121  109.0     4.11  2.780  18.60  1.0   \n32  Tesla ModelS P100D  98.0  NaN  NA   778.0 -9999.00  4.941  10.41  NaN   \n\n     am  gear  carb  \n28  1.0   5.0   4.0  \n29  1.0   5.0   6.0  \n30  1.0   5.0   8.0  \n31  1.0   4.0   2.0  \n32  0.0   1.0   NaN  ",
      "text/html": "<div>\n<style scoped>\n    .dataframe tbody tr th:only-of-type {\n        vertical-align: middle;\n    }\n\n    .dataframe tbody tr th {\n        vertical-align: top;\n    }\n\n    .dataframe thead th {\n        text-align: right;\n    }\n</style>\n<table border=\"1\" class=\"dataframe\">\n  <thead>\n    <tr style=\"text-align: right;\">\n      <th></th>\n      <th>model</th>\n      <th>mpg</th>\n      <th>cyl</th>\n      <th>disp</th>\n      <th>hp</th>\n      <th>drat</th>\n      <th>wt</th>\n      <th>qsec</th>\n      <th>vs</th>\n      <th>am</th>\n      <th>gear</th>\n      <th>carb</th>\n    </tr>\n  </thead>\n  <tbody>\n    <tr>\n      <th>28</th>\n      <td>Ford Pantera L</td>\n      <td>15.8</td>\n      <td>8.0</td>\n      <td>351</td>\n      <td>264.0</td>\n      <td>4.22</td>\n      <td>3.170</td>\n      <td>14.50</td>\n      <td>0.0</td>\n      <td>1.0</td>\n      <td>5.0</td>\n      <td>4.0</td>\n    </tr>\n    <tr>\n      <th>29</th>\n      <td>Ferrari Dino</td>\n      <td>19.7</td>\n      <td>6.0</td>\n      <td>145</td>\n      <td>175.0</td>\n      <td>3.62</td>\n      <td>2.770</td>\n      <td>15.50</td>\n      <td>0.0</td>\n      <td>1.0</td>\n      <td>5.0</td>\n      <td>6.0</td>\n    </tr>\n    <tr>\n      <th>30</th>\n      <td>Maserati Bora</td>\n      <td>15.0</td>\n      <td>8.0</td>\n      <td>301</td>\n      <td>335.0</td>\n      <td>3.54</td>\n      <td>3.570</td>\n      <td>14.60</td>\n      <td>0.0</td>\n      <td>1.0</td>\n      <td>5.0</td>\n      <td>8.0</td>\n    </tr>\n    <tr>\n      <th>31</th>\n      <td>Volvo 142E</td>\n      <td>21.4</td>\n      <td>4.0</td>\n      <td>121</td>\n      <td>109.0</td>\n      <td>4.11</td>\n      <td>2.780</td>\n      <td>18.60</td>\n      <td>1.0</td>\n      <td>1.0</td>\n      <td>4.0</td>\n      <td>2.0</td>\n    </tr>\n    <tr>\n      <th>32</th>\n      <td>Tesla ModelS P100D</td>\n      <td>98.0</td>\n      <td>NaN</td>\n      <td>NA</td>\n      <td>778.0</td>\n      <td>-9999.00</td>\n      <td>4.941</td>\n      <td>10.41</td>\n      <td>NaN</td>\n      <td>0.0</td>\n      <td>1.0</td>\n      <td>NaN</td>\n    </tr>\n  </tbody>\n</table>\n</div>"
     },
     "metadata": {},
     "execution_count": 19
    }
   ],
   "source": [
    "#Load the data from excel file\n",
    "data2 = pd.read_excel(\"Example_3.xls\", \"data\")\n",
    "\n",
    "#Drop rows and columns with all NA values.\n",
    "data2 = data2[data2['model'].notna()]\n",
    "data2 = data2.dropna(axis = 1, how = 'all')\n",
    "\n",
    "#Drop a lingering NA column.\n",
    "data2 = data2.drop(['Unnamed: 19'], axis=1)\n",
    "data2.tail()"
   ]
  }
 ]
}