{
 "metadata": {
  "language_info": {
   "codemirror_mode": {
    "name": "ipython",
    "version": 3
   },
   "file_extension": ".py",
   "mimetype": "text/x-python",
   "name": "python",
   "nbconvert_exporter": "python",
   "pygments_lexer": "ipython3",
   "version": "3.8.3-final"
  },
  "orig_nbformat": 2,
  "kernelspec": {
   "name": "Python 3.8.3 64-bit ('base': conda)",
   "display_name": "Python 3.8.3 64-bit ('base': conda)",
   "metadata": {
    "interpreter": {
     "hash": "d688fef97cee6022be7601baee37833edb40567839e1dc4c10769ccdd01179eb"
    }
   }
  }
 },
 "nbformat": 4,
 "nbformat_minor": 2,
 "cells": [
  {
   "source": [
    "## Author: Joseph Vargovich"
   ],
   "cell_type": "markdown",
   "metadata": {}
  },
  {
   "cell_type": "code",
   "execution_count": 1,
   "metadata": {},
   "outputs": [],
   "source": [
    "#Import libraries\n",
    "import pandas as pd\n",
    "import numpy as np\n",
    "import datetime\n",
    "from dateutil.relativedelta import relativedelta\n",
    "import pytz"
   ]
  },
  {
   "source": [
    "# Exercise 2: Birthday caluclations "
   ],
   "cell_type": "markdown",
   "metadata": {}
  },
  {
   "source": [
    "#Create a date object for my birthday. \n",
    "birthday = datetime.date(1999, 4, 21)\n",
    "#This is stupid, we need to use an existing datetime object to get today's date????? There should be an independent method. \n",
    "today = birthday.today()\n",
    "print(birthday)\n",
    "print(today)\n",
    "\n",
    "#a. Create our next birthday with replace()\n",
    "nextBirthday = birthday.replace(year=2021)\n",
    "print(nextBirthday)\n",
    "\n",
    "#b. Number of days until my next birthday\n",
    "timeToBday = nextBirthday - today\n",
    "print(\"Days till next birthday: \", timeToBday.days)\n",
    "\n",
    "#c. Number of months and days until my next birthday\n",
    "relativeDiff = relativedelta(nextBirthday, today)\n",
    "print(relativeDiff.months, \" months \", relativeDiff.days, \" days\")\n",
    "\n",
    "#d. Date of my 64th birthday\n",
    "imOld = birthday + relativedelta(years=64)\n",
    "print(imOld)\n",
    "\n",
    "#e. Number of years, months, and days until im old\n",
    "timeTillOld = relativedelta(imOld, today)\n",
    "print(timeTillOld.years, \" years \", timeTillOld.months, \" months \", timeTillOld.days, \" days until I am old.\")"
   ],
   "cell_type": "code",
   "metadata": {},
   "execution_count": 2,
   "outputs": [
    {
     "output_type": "stream",
     "name": "stdout",
     "text": [
      "1999-04-21\n2020-10-11\n2021-04-21\nDays till next birthday:  192\n6  months  10  days\n2063-04-21\n42  years  6  months  10  days until I am old.\n"
     ]
    }
   ]
  },
  {
   "source": [
    "# Exercise 3 - AZ to New Zealand Timezone converison"
   ],
   "cell_type": "markdown",
   "metadata": {}
  },
  {
   "source": [
    "#Create timezone parameters\n",
    "timezoneAZ = pytz.timezone('US/Arizona')\n",
    "timezoneNZ = pytz.timezone('Pacific/Auckland')\n",
    "\n",
    "#Create the datetime object for the meeting. \n",
    "meetingAZ = datetime.datetime(2015, 5, 8, 15, tzinfo=timezoneAZ)\n",
    "meetingNZ = meetingAZ.astimezone(timezoneNZ)\n",
    "print(meetingAZ)\n",
    "print(meetingNZ)"
   ],
   "cell_type": "code",
   "metadata": {},
   "execution_count": 3,
   "outputs": [
    {
     "output_type": "stream",
     "name": "stdout",
     "text": [
      "2015-05-08 15:00:00-07:28\n2015-05-09 10:28:00+12:00\n"
     ]
    }
   ]
  },
  {
   "source": [
    "# Exercise 4 - Weather Station Plot Of Max Temperature"
   ],
   "cell_type": "markdown",
   "metadata": {}
  },
  {
   "cell_type": "code",
   "execution_count": 4,
   "metadata": {},
   "outputs": [
    {
     "output_type": "stream",
     "name": "stdout",
     "text": [
      "25448   2014-09-15\nName: DATE, dtype: datetime64[ns]\n"
     ]
    }
   ],
   "source": [
    "weatherDf = pd.read_csv(\"Pulliam_Airport_Weather_Station.csv\")\n",
    "\n",
    "#Select just the weather and tmax columns. \n",
    "weatherDf = weatherDf[[\"DATE\", \"TMAX\"]]\n",
    "weatherDf.set_index('DATE')\n",
    "#Convert to string and then datetime objects using .apply\n",
    "weatherDf['DATE'] = weatherDf['DATE'].apply(lambda x: str(x))\n",
    "weatherDf['DATE'] = weatherDf['DATE'].apply(lambda x: datetime.datetime.strptime(x, '%Y-%m-%d'))\n",
    "\n",
    "maxDate = weatherDf.iloc[[-1]]['DATE']\n",
    "maxDate\n",
    "\n",
    "#For some reason there is not a years parameter for the datetime I made, so I had to manually enter days in five years with the leap year. \n",
    "fiveYearsBefore = maxDate - datetime.timedelta(days=1826)\n",
    "print(str(fiveYearsBefore))\n",
    "#I tried to filter with datetime objects but I couldn't get it working properly. \n",
    "weatherDf = weatherDf.loc[str(fiveYearsBefore) : str(maxDate)]\n",
    "\n",
    "\n"
   ]
  }
 ]
}