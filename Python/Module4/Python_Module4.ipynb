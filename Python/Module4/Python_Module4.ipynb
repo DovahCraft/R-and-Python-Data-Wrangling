{
 "metadata": {
  "language_info": {
   "codemirror_mode": {
    "name": "ipython",
    "version": 3
   },
   "file_extension": ".py",
   "mimetype": "text/x-python",
   "name": "python",
   "nbconvert_exporter": "python",
   "pygments_lexer": "ipython3",
   "version": "3.8.3-final"
  },
  "orig_nbformat": 2,
  "kernelspec": {
   "name": "python_defaultSpec_1599283772217",
   "display_name": "Python 3.8.3 64-bit ('josep': virtualenv)"
  }
 },
 "nbformat": 4,
 "nbformat_minor": 2,
 "cells": [
  {
   "cell_type": "markdown",
   "metadata": {},
   "source": [
    "# Author: Joseph Vargovich"
   ]
  },
  {
   "cell_type": "code",
   "execution_count": 1,
   "metadata": {},
   "outputs": [],
   "source": [
    "#Import libraries\n",
    "import pandas as pd"
   ]
  },
  {
   "cell_type": "markdown",
   "metadata": {},
   "source": [
    "# Exercise 1 - Manipulations and filters on the ChickWeight dataset imported from R."
   ]
  },
  {
   "cell_type": "code",
   "execution_count": 2,
   "metadata": {
    "tags": []
   },
   "outputs": [
    {
     "output_type": "stream",
     "name": "stdout",
     "text": "Mean weight across the 4 diets\n Diet\n1    129.583333\n2    157.050000\n3    188.000000\n4    177.105263\nName: weight, dtype: float64\n\n\nStd deviation across the 4 diets\n Diet\n1    56.571257\n2    71.404316\n3    86.607402\n4    61.284305\nName: weight, dtype: float64\n"
    }
   ],
   "source": [
    "#Read the chickweight csv and store it here.\n",
    "chickWeight = pd.read_csv(\"chickWeight.csv\")\n",
    "\n",
    "#a. Apply the filter function to get measurements from day 10 OR day 20.\n",
    "chickWeight = chickWeight[chickWeight['Time'].isin([10, 20])]\n",
    "\n",
    "#Calculate the mean and std deviation of each diet group from this modified dataframe\n",
    "chickWeightGrps = chickWeight.groupby(['Diet'])\n",
    "chickWeightMean = chickWeightGrps['weight'].mean()\n",
    "print(\"Mean weight across the 4 diets\\n\", chickWeightMean)\n",
    "chickWeightSd = chickWeightGrps['weight'].std()\n",
    "print(\"\\n\")\n",
    "print(\"Std deviation across the 4 diets\\n\", chickWeightSd)"
   ]
  },
  {
   "cell_type": "markdown",
   "metadata": {},
   "source": [
    "# Exercise 2 - OpenIntro body dimensions pipeline."
   ]
  },
  {
   "cell_type": "code",
   "execution_count": 3,
   "metadata": {},
   "outputs": [],
   "source": [
    "%%capture\n",
    "#a. The OpenIntro textbook on statistics includes a data set on body dimensions. Unfortunately the server seems to be blocking my request, so I will manually download it from the link instead.\n",
    "\"\"\"url = 'http://www.openintro.org/stat/data/bdims.csv' \n",
    "response = requests.get(url).content\"\"\" "
   ]
  },
  {
   "cell_type": "code",
   "execution_count": 4,
   "metadata": {
    "tags": []
   },
   "outputs": [
    {
     "output_type": "stream",
     "name": "stdout",
     "text": "sexMF   Decades \nFemale  [10, 20)    21.840488\n        [20, 30)    21.766430\n        [30, 40)    22.531684\n        [40, 50)    24.255105\n        [50, 60)    22.666894\n        [60, 70)    23.694256\nMale    [10, 20)    25.508854\n        [20, 30)    24.166745\n        [30, 40)    24.887053\n        [40, 50)    26.368220\n        [50, 60)    24.753149\n        [60, 70)    23.908969\nName: BMI, dtype: float64\n"
    }
   ],
   "source": [
    "#Read the address csv and store it here.\n",
    "body = pd.read_csv(\"bdims.csv\")\n",
    "\n",
    "# b. The column sex is coded as a 1 if the individual is male and 0 if female. This is a non-intuitive labeling system. Create a new column sex.MF that uses labels Male and Female.\n",
    "body = body.assign(sexMF = ['Male' if a == 1 else 'Female' for a in body['sex']])\n",
    "\n",
    "#c. The columns wgt and hgt measure weight and height in kilograms and centimeters (respectively). Use these to calculate the Body Mass Index (BMI) for each individual.\n",
    "#Sort of a hackish way to append the BMI, I would look to see if there is a better way to do this that is more concise. \n",
    "bmi = []\n",
    "wgt = 0\n",
    "hgt = 0\n",
    "#Index is used with iterrows, row is our current row to pull from body. \n",
    "for index, row in body.iterrows():\n",
    "    hgt = row['hgt']\n",
    "    wgt = row['wgt']\n",
    "    bmi.append((wgt)/(hgt/100)**2)\n",
    "#Once we built a bmi list, append it to body to serve as a column for BMI calculations. \n",
    "body['BMI'] = bmi\n",
    "\n",
    "#e. Create a new column of in the data frame that divides the age into decades (10-19, 20-29, 30-39, etc). \n",
    "body['Decades'] = pd.cut(body.age, [10, 20, 30, 40, 50, 60, 70], right=False)\n",
    "\n",
    "#f.   Find the average BMI for each Sex by decades combination\n",
    "body = body.groupby(['sexMF', 'Decades'])\n",
    "# Store the mean of the groups in a new data frame. \n",
    "meanDF = body['BMI'].mean()\n",
    "print(meanDF)"
   ]
  }
 ]
}