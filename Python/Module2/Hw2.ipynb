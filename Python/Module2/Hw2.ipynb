{
 "cells": [
  {
   "cell_type": "code",
   "execution_count": null,
   "metadata": {},
   "outputs": [],
   "source": [
    "import math\n",
    "import requests\n",
    "import pandas"
   ]
  },
  {
   "cell_type": "code",
   "execution_count": null,
   "metadata": {},
   "outputs": [],
   "source": [
    "#Here we specify a download url to pull a csv from. This is an addresses csv.\n",
    "download_url = \"https://people.sc.fsu.edu/~jburkardt/data/csv/addresses.csv\"\n",
    "#This will be the file name of our imported csv.\n",
    "csv_name = \"addresses.csv\"\n",
    "\n",
    "response = requests.get(download_url)\n",
    "#This will stop execution if the url is not valid. \n",
    "response.raise_for_status()   \n",
    "with open(csv_name, \"wb\") as f:\n",
    "    f.write(response.content)\n",
    "\n",
    "#Read the address csv and store it here.\n",
    "addressOutput = pandas.read_csv(\"addresses.csv\")\n",
    "#Print the dataset. \n",
    "print(addressOutput)"
   ]
  },
  {
   "cell_type": "code",
   "execution_count": null,
   "metadata": {},
   "outputs": [],
   "source": [
    "#Here is a demo of the exception raised with an invalid link. \n",
    "download_url = \"https://people.sc.fsu.edu/~jburkardt/data/csv/addresseWLEKHJRFLKJWHRs.csv\"\n",
    "#This will be the file name of our imported csv.\n",
    "csv_name = \"addresses.csv\"\n",
    "\n",
    "response = requests.get(download_url)\n",
    "#This will stop execution as the url is not valid. \n",
    "response.raise_for_status()   \n",
    "#This will not run, the exception raised will terminate execution. \n",
    "with open(csv_name, \"wb\") as f:\n",
    "    f.write(response.content)"
   ]
  }
 ],
 "metadata": {
  "kernelspec": {
   "display_name": "Python 3",
   "language": "python",
   "name": "python3"
  },
  "language_info": {
   "codemirror_mode": {
    "name": "ipython",
    "version": 3
   },
   "file_extension": ".py",
   "mimetype": "text/x-python",
   "name": "python",
   "nbconvert_exporter": "python",
   "pygments_lexer": "ipython3",
   "version": "3.8.3"
  }
 },
 "nbformat": 4,
 "nbformat_minor": 4
}
