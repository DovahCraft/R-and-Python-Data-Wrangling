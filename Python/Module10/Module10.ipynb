{
 "metadata": {
  "language_info": {
   "codemirror_mode": {
    "name": "ipython",
    "version": 3
   },
   "file_extension": ".py",
   "mimetype": "text/x-python",
   "name": "python",
   "nbconvert_exporter": "python",
   "pygments_lexer": "ipython3",
   "version": "3.8.3-final"
  },
  "orig_nbformat": 2,
  "kernelspec": {
   "name": "Python 3.8.3 64-bit ('base': conda)",
   "display_name": "Python 3.8.3 64-bit ('base': conda)",
   "metadata": {
    "interpreter": {
     "hash": "d688fef97cee6022be7601baee37833edb40567839e1dc4c10769ccdd01179eb"
    }
   }
  }
 },
 "nbformat": 4,
 "nbformat_minor": 2,
 "cells": [
  {
   "source": [
    "## Author: Joseph Vargovich"
   ],
   "cell_type": "markdown",
   "metadata": {}
  },
  {
   "cell_type": "code",
   "execution_count": 1,
   "metadata": {
    "tags": []
   },
   "outputs": [],
   "source": [
    "#Import libraries\n",
    "import pandas as pd\n",
    "import numpy as np"
   ]
  },
  {
   "source": [
    "# Exercise 1&2 - Create a duniform function for the density function."
   ],
   "cell_type": "markdown",
   "metadata": {}
  },
  {
   "cell_type": "code",
   "execution_count": 8,
   "metadata": {
    "tags": []
   },
   "outputs": [
    {
     "output_type": "stream",
     "name": "stdout",
     "text": "0\n0.5\n0\n       x    y\n0 -4.000  0.0\n1 -3.999  0.0\n2 -3.998  0.0\n3 -3.997  0.0\n4 -3.996  0.0\n            x    y\n15995  11.995  0.0\n15996  11.996  0.0\n15997  11.997  0.0\n15998  11.998  0.0\n15999  11.999  0.0\n"
    }
   ],
   "source": [
    "#a. Duniform with simple input\n",
    "def duniform(x, a=0,b=1):\n",
    "    #Check the bounds of x per the density function\n",
    "    if(a <= x and x <= b):\n",
    "        return (1/(b-a))\n",
    "    return 0\n",
    "\n",
    "#x<a\n",
    "print(duniform(1,2,3))\n",
    "\n",
    "#a<x<b\n",
    "print(duniform(3,2,4))\n",
    "\n",
    "#b<x\n",
    "print(duniform(6,7,3))\n",
    "\n",
    "#b. Duniform with vector input modification\n",
    "def duniformVec(x,a=0,b=1):\n",
    "    output = []\n",
    "    #Grab indicies that correspond to the length of x. \n",
    "    for i in range(len(x)):\n",
    "        #Check the bounds of x per the density function. \n",
    "        if(a <= x[i] and x[i] <= b):\n",
    "            output.append(1/(b-a))\n",
    "        else:\n",
    "            output.append(0)\n",
    "    return output\n",
    "\n",
    "#TestCode        \n",
    "x_vec = np.arange(-4,12,.001)\n",
    "y_vec = duniformVec(x_vec, 4,8)\n",
    "\n",
    "dataDict = {'x':x_vec, 'y':y_vec}\n",
    "df = pd.DataFrame(data=dataDict)\n",
    "#df.head gives predicted output. \n",
    "print(df.head())\n",
    "print(df.tail())\n"
   ]
  },
  {
   "source": [
    "#c. Benchmark the duniformVec function using the magic python command %timeit.\n",
    "x_vec = np.arange(-4,12,.001)\n",
    "%timeit duniformVec(x_vec, 4,8)\n"
   ],
   "cell_type": "code",
   "metadata": {
    "tags": []
   },
   "execution_count": 5,
   "outputs": [
    {
     "output_type": "stream",
     "name": "stdout",
     "text": "10.2 ms ± 111 µs per loop (mean ± std. dev. of 7 runs, 100 loops each)\n"
    }
   ]
  },
  {
   "source": [
    "# Exercise 3 - Standardize Function"
   ],
   "cell_type": "markdown",
   "metadata": {}
  },
  {
   "source": [
    "def standardize(x):\n",
    "    return(x-np.mean(x)/np.std(x))\n",
    "\n",
    "#Small test list\n",
    "test_list = [2,3,2]\n",
    "\n",
    "standardize(test_vec)\n"
   ],
   "cell_type": "code",
   "metadata": {},
   "execution_count": 53,
   "outputs": [
    {
     "output_type": "execute_result",
     "data": {
      "text/plain": "array([-2.94974747, -1.94974747, -2.94974747])"
     },
     "metadata": {},
     "execution_count": 53
    }
   ]
  },
  {
   "source": [
    "# Exercise 4 - FizzBuzz function"
   ],
   "cell_type": "markdown",
   "metadata": {}
  },
  {
   "cell_type": "code",
   "execution_count": 14,
   "metadata": {
    "tags": []
   },
   "outputs": [
    {
     "output_type": "stream",
     "name": "stdout",
     "text": "1\n2\nFizz\n4\nBuzz\nFizz\n7\n8\nFizz\nBuzz\n11\nFizz\n13\n14\nFizzBuzz\n16\n17\nFizz\n19\nBuzz\n"
    }
   ],
   "source": [
    "def fizzbuzz(n):\n",
    "    for i in range(1,n):\n",
    "        if((i%3 == 0) and (i%5==0)):\n",
    "            print('FizzBuzz')\n",
    "        elif(i % 3 == 0):\n",
    "            print('Fizz')  \n",
    "        elif(i % 5 == 0):\n",
    "            print('Buzz') \n",
    "        else:\n",
    "            print(i)\n",
    "\n",
    "fizzbuzz(21)\n"
   ]
  }
 ]
}