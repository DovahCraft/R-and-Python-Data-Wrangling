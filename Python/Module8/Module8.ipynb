{
 "metadata": {
  "language_info": {
   "codemirror_mode": {
    "name": "ipython",
    "version": 3
   },
   "file_extension": ".py",
   "mimetype": "text/x-python",
   "name": "python",
   "nbconvert_exporter": "python",
   "pygments_lexer": "ipython3",
   "version": "3.8.3-final"
  },
  "orig_nbformat": 2,
  "kernelspec": {
   "name": "Python 3.8.3 64-bit ('base': conda)",
   "display_name": "Python 3.8.3 64-bit ('base': conda)",
   "metadata": {
    "interpreter": {
     "hash": "d688fef97cee6022be7601baee37833edb40567839e1dc4c10769ccdd01179eb"
    }
   }
  }
 },
 "nbformat": 4,
 "nbformat_minor": 2,
 "cells": [
  {
   "source": [
    "## Author: Joseph Vargovich"
   ],
   "cell_type": "markdown",
   "metadata": {}
  },
  {
   "cell_type": "code",
   "execution_count": 80,
   "metadata": {},
   "outputs": [],
   "source": [
    "#Import libraries\n",
    "import pandas as pd\n",
    "import numpy as np\n",
    "from patsy import dmatrices\n",
    "import statsmodels.api as sm"
   ]
  },
  {
   "source": [
    "# Exercise 1: Create vectors of length three and add them."
   ],
   "cell_type": "markdown",
   "metadata": {}
  },
  {
   "cell_type": "code",
   "execution_count": 4,
   "metadata": {},
   "outputs": [
    {
     "output_type": "execute_result",
     "data": {
      "text/plain": "array([10, 14, 18])"
     },
     "metadata": {},
     "execution_count": 4
    }
   ],
   "source": [
    " #Create a numpy vector\n",
    "vec_a = np.array([2,4,6])\n",
    "vec_b = np.array([8,10])\n",
    "\n",
    "\n",
    "vec_c = vec_a + vec_b\n",
    "\n",
    "vec_c"
   ]
  },
  {
   "cell_type": "code",
   "execution_count": null,
   "metadata": {},
   "outputs": [],
   "source": [
    "# Exercise 2: Create vectors of differing size and add them. "
   ]
  },
  {
   "cell_type": "code",
   "execution_count": 5,
   "metadata": {},
   "outputs": [
    {
     "output_type": "error",
     "ename": "ValueError",
     "evalue": "operands could not be broadcast together with shapes (3,) (2,) ",
     "traceback": [
      "\u001b[1;31m---------------------------------------------------------------------------\u001b[0m",
      "\u001b[1;31mValueError\u001b[0m                                Traceback (most recent call last)",
      "\u001b[1;32m<ipython-input-5-ee969c48c52e>\u001b[0m in \u001b[0;36m<module>\u001b[1;34m\u001b[0m\n\u001b[0;32m      2\u001b[0m \u001b[0mvec_d\u001b[0m \u001b[1;33m=\u001b[0m \u001b[0mnp\u001b[0m\u001b[1;33m.\u001b[0m\u001b[0marray\u001b[0m\u001b[1;33m(\u001b[0m\u001b[1;33m[\u001b[0m\u001b[1;36m14\u001b[0m\u001b[1;33m,\u001b[0m\u001b[1;36m20\u001b[0m\u001b[1;33m]\u001b[0m\u001b[1;33m)\u001b[0m\u001b[1;33m\u001b[0m\u001b[1;33m\u001b[0m\u001b[0m\n\u001b[0;32m      3\u001b[0m \u001b[1;33m\u001b[0m\u001b[0m\n\u001b[1;32m----> 4\u001b[1;33m \u001b[0mvec_a\u001b[0m \u001b[1;33m+\u001b[0m \u001b[0mvec_d\u001b[0m\u001b[1;33m\u001b[0m\u001b[1;33m\u001b[0m\u001b[0m\n\u001b[0m",
      "\u001b[1;31mValueError\u001b[0m: operands could not be broadcast together with shapes (3,) (2,) "
     ]
    }
   ],
   "source": [
    "#Hmm, does Python have a recyling rule?\n",
    "vec_d = np.array([14,20])\n",
    "\n",
    "vec_a + vec_d #It does not! We get an error instead of recyling. "
   ]
  },
  {
   "source": [
    "# Exercise 3 - Add a constant to a vector "
   ],
   "cell_type": "markdown",
   "metadata": {}
  },
  {
   "cell_type": "code",
   "execution_count": 6,
   "metadata": {},
   "outputs": [
    {
     "output_type": "execute_result",
     "data": {
      "text/plain": "array([ 7,  9, 11])"
     },
     "metadata": {},
     "execution_count": 6
    }
   ],
   "source": [
    "vec_a + 5"
   ]
  },
  {
   "source": [],
   "cell_type": "markdown",
   "metadata": {}
  },
  {
   "source": [
    "# Exercise 4 - Generate a vector of integers with two methods"
   ],
   "cell_type": "markdown",
   "metadata": {}
  },
  {
   "cell_type": "code",
   "execution_count": 15,
   "metadata": {
    "tags": []
   },
   "outputs": [
    {
     "output_type": "stream",
     "name": "stdout",
     "text": "[1 2 3 4 5]\n[1, 2, 3, 4, 5]\n"
    }
   ],
   "source": [
    "#1 with numpy arange\n",
    "print(np.arange(1,6)) #This is not an inclusive upper range value, unlike R.\n",
    "\n",
    "#2 with the built-in range function (No simple colon operator in Python :( )\n",
    "print(list(range(1,6)))"
   ]
  },
  {
   "source": [
    "# Exercise 5 - Generate a vector of even integers with two methods"
   ],
   "cell_type": "markdown",
   "metadata": {}
  },
  {
   "cell_type": "code",
   "execution_count": 18,
   "metadata": {
    "tags": []
   },
   "outputs": [
    {
     "output_type": "stream",
     "name": "stdout",
     "text": "[ 2  4  6  8 10 12 14 16 18 20]\n[2, 4, 6, 8, 10, 12, 14, 16, 18, 20]\n"
    }
   ],
   "source": [
    "#1 Use numpy's arange in place of R's seq function\n",
    "listNp = np.arange(2,22, 2)  \n",
    "print(listNp)\n",
    "\n",
    "#2 with the built-in range function\n",
    "list1 = list(range(1,11))\n",
    "list2 = [i * 2 for i in list1]\n",
    "print(list2)"
   ]
  },
  {
   "source": [
    "# Exercise 6 - Generate a vector of 21 evenly spaced elements between 0 and 1"
   ],
   "cell_type": "markdown",
   "metadata": {}
  },
  {
   "cell_type": "code",
   "execution_count": 19,
   "metadata": {
    "tags": []
   },
   "outputs": [
    {
     "output_type": "stream",
     "name": "stdout",
     "text": "[0.   0.05 0.1  0.15 0.2  0.25 0.3  0.35 0.4  0.45 0.5  0.55 0.6  0.65\n 0.7  0.75 0.8  0.85 0.9  0.95 1.  ]\n"
    }
   ],
   "source": [
    "# This utilizes np.linspace()\n",
    "x = np.linspace(0,1,21)\n",
    "print(x)"
   ]
  },
  {
   "source": [
    "# Exercise 7 - Generate a vector by repeating another one\n"
   ],
   "cell_type": "markdown",
   "metadata": {}
  },
  {
   "cell_type": "code",
   "execution_count": 32,
   "metadata": {
    "tags": []
   },
   "outputs": [
    {
     "output_type": "stream",
     "name": "stdout",
     "text": "[2 4 8 2 4 8 2 4 8]\n"
    }
   ],
   "source": [
    "#This is the default behavior of np.tile\n",
    "to_repeat = np.array([2,4,8])\n",
    "\n",
    "result1 = np.tile(to_repeat,3)\n",
    "\n",
    "print(result1)"
   ]
  },
  {
   "source": [
    "# Exercise 8 - Generate a vector by repeating another one, keep the elements in order this time"
   ],
   "cell_type": "markdown",
   "metadata": {}
  },
  {
   "cell_type": "code",
   "execution_count": 37,
   "metadata": {
    "tags": []
   },
   "outputs": [
    {
     "output_type": "stream",
     "name": "stdout",
     "text": "[2 2 2 2 4 4 4 4 8 8 8 8]\n"
    }
   ],
   "source": [
    "#This is the default behavior of np.repeat()\n",
    "letters = np.array\n",
    "\n",
    "print(result2)"
   ]
  },
  {
   "source": [
    "# Exercise 9  - Work with the letters dataset"
   ],
   "cell_type": "markdown",
   "metadata": {}
  },
  {
   "cell_type": "code",
   "execution_count": 61,
   "metadata": {
    "tags": []
   },
   "outputs": [
    {
     "output_type": "stream",
     "name": "stdout",
     "text": "i\n['i' 'k' 'r']\n['a' 'b' 'c' 'd' 'e' 'f' 'g' 'h' 'i' 'j' 'k' 'l' 'm' 'n' 'o' 'p' 'q' 'r'\n 's' 't' 'u' 'v' 'w' 'x']\n"
    }
   ],
   "source": [
    "letters = np.array(['a','b','c','d','e','f','g','h','i','j','k','l','m','n','o','p','q','r','s','t','u','v','w','x','y','z'])\n",
    "\n",
    "#a. Get the 9th element (indexing starts at 0 in Python)\n",
    "print(letters[8])\n",
    "\n",
    "#b. Get the subvector of the 9th, 11th, and 19th elements\n",
    "print(letters[[8,10,17]])\n",
    "\n",
    "#c. Get the subvector of elements that exclude the last 2 elements\n",
    "print(letters[0:24]) #This is identical to Python as the second element of the range is not inclusive. [0,24) in this example. "
   ]
  },
  {
   "source": [
    "# Exercise 10 - Create a matrix and perform operations"
   ],
   "cell_type": "markdown",
   "metadata": {}
  },
  {
   "cell_type": "code",
   "execution_count": 42,
   "metadata": {
    "tags": []
   },
   "outputs": [
    {
     "output_type": "stream",
     "name": "stdout",
     "text": "Matrix1: \n\n[[ 2  4  6  8 10]\n [12 14 16 18 20]\n [22 24 26 28 30]]\n\nMatrix2: \n\n[[ 2  4  6  8 10]\n [12 14 16 18 20]\n [22 24 26 28 30]]\n\n [12 14 16 18 20]\n\n 24\n"
    }
   ],
   "source": [
    "#a. Create an nd matrix to hold a sequence of numbers using ndarray()\n",
    "matrix1 = np.ndarray(shape=(3,5), buffer=np.arange(2,32,2), order='C', dtype=np.int32)\n",
    "print(\"Matrix1: \\n\")\n",
    "print(matrix1)\n",
    "\n",
    "#b. Create anotehr matrix by stacking vectors using np.vstack\n",
    "row1 = np.arange(2,12, 2)\n",
    "row2 = np.arange(12,22, 2)\n",
    "row3 = np.arange(22,32, 2)\n",
    "\n",
    "#Build the matrix\n",
    "matrix2 = np.vstack((row1,row2,row3))\n",
    "#matrix2 = np.concatenate((matrix2,row3), axis=1)\n",
    "\n",
    "print(\"\\nMatrix2: \\n\")\n",
    "print(matrix2)\n",
    "\n",
    "\n",
    "#c. Grab the second row of the matrix\n",
    "print(\"\\n\", matrix1[1]) \n",
    "\n",
    "#d. Grab the second element of the third row\n",
    "print(\"\\n\", matrix[2][1])"
   ]
  },
  {
   "source": [
    "# Exercise 11 - Create and manipulate a data frame."
   ],
   "cell_type": "markdown",
   "metadata": {}
  },
  {
   "cell_type": "code",
   "execution_count": 89,
   "metadata": {
    "tags": []
   },
   "outputs": [
    {
     "output_type": "stream",
     "name": "stdout",
     "text": "Thrid row: \n    Girth  Height  Volume\n2    8.8      63    10.2 \n\n\nGirth column: \n 0     8.3\n1     8.6\n2     8.8\n3    10.5\n4    10.7\n5    10.8\n6    11.0\nName: Girth, dtype: float64\nMy_Trees with row 4 dropped: \n    Girth  Height  Volume\n0    8.3      70    10.3\n1    8.6      65    10.3\n2    8.8      63    10.2\n4   10.7      81    18.8\n5   10.8      83    19.7\n6   11.0      66    15.6\nGirth Greater than 10 selected: \n    Girth  Height  Volume\n3   10.5      72    16.4\n4   10.7      81    18.8\n5   10.8      83    19.7\n6   11.0      66    15.6\nLarge Trees: \n    Girth  Height  Volume\n0    8.3      70    10.3\n1    8.6      65    10.3\n2    8.8      63    10.2\n3   10.5      72    16.4\n4   10.7      81    18.8\n5   10.8      83    19.7\n6   11.0      66    15.6\nSmall Trees: \n    Girth  Height  Volume\n0    8.3      70    10.3\n1    8.6      65    10.3\n2    8.8      63    10.2\n"
    }
   ],
   "source": [
    "#a. Create a trees dataframe\n",
    "dataDict = {'Girth': [8.3, 8.6,8.8,10.5, 10.7, 10.8, 11.0], 'Height': [70, 65, 63, 72, 81, 83, 66], 'Volume': [10.3, 10.3, 10.2, 16.4, 18.8, 19.7, 15.6]} \n",
    "my_trees = pd.DataFrame(data=dataDict)\n",
    "\n",
    "#b. Extract the third element (row) from the dataframe\n",
    "print(\"Thrid row: \\n\",my_trees[2:3], \"\\n\\n\")\n",
    "\n",
    "#c. Extract the Girth column by name\n",
    "print(\"Girth column: \\n\",my_trees['Girth'])\n",
    "\n",
    "#d. Grab every row but the fourth one\n",
    "print(\"My_Trees with row 4 dropped: \\n\", my_trees.drop(3,axis=0))\n",
    "\n",
    "#e. Select from the df based on condition\n",
    "my_trees2 = my_trees[my_trees['Girth'] > 10] \n",
    "print(\"Girth Greater than 10 selected: \\n\", my_trees2)\n",
    "\n",
    "#f. Create a data set with just the large trees\n",
    "dataDictLarge = {'Girth': my_trees['Girth'], 'Height': my_trees['Height'], 'Volume': my_trees['Volume']}\n",
    "\n",
    "my_trees_large = pd.DataFrame(data=dataDictLarge)\n",
    "print(\"Large Trees: \\n\", my_trees_large )\n",
    "\n",
    "#g. Create a data set with just the small trees\n",
    "my_trees_small = my_trees[my_trees['Girth'] < 10]\n",
    "print(\"Small Trees: \\n\", my_trees_small )"
   ]
  },
  {
   "source": [
    "# Exercise 14 - Create and manipulate a list"
   ],
   "cell_type": "markdown",
   "metadata": {}
  },
  {
   "cell_type": "code",
   "execution_count": 90,
   "metadata": {
    "tags": []
   },
   "outputs": [
    {
     "output_type": "stream",
     "name": "stdout",
     "text": "y:  [34, 35, 41, 40, 45, 47, 51]\np-val:  [0.000131]\n"
    }
   ],
   "source": [
    "#Not really a true equivalent, but we can still store various sized items with a dictionary\n",
    "dict_struct = {'x': [4,5,6,7,8,9,10], 'y': [34,35,41,40,45,47,51], 'slope': [2.82], 'p-value': [0.000131]}\n",
    "\n",
    "#b. Grab the second value of the dictionary\n",
    "print(\"y: \",dict_struct['y'])\n",
    "\n",
    "#c. Grab the p-value\n",
    "print(\"p-val: \", dict_struct['p-value'])"
   ]
  },
  {
   "source": [
    "# Exercise 15 - Examine the data structures used with linear models lm()"
   ],
   "cell_type": "markdown",
   "metadata": {}
  },
  {
   "cell_type": "code",
   "execution_count": 88,
   "metadata": {
    "tags": []
   },
   "outputs": [
    {
     "output_type": "stream",
     "name": "stdout",
     "text": "   Unnamed: 0  Girth  Height  Volume\n0           1    8.3      70    10.3\n1           2    8.6      65    10.3\n2           3    8.8      63    10.2\n3           4   10.5      72    16.4\n4           5   10.7      81    18.8\n                            OLS Regression Results                            \n==============================================================================\nDep. Variable:                 Volume   R-squared:                       0.948\nModel:                            OLS   Adj. R-squared:                  0.944\nMethod:                 Least Squares   F-statistic:                     255.0\nDate:                Sun, 27 Sep 2020   Prob (F-statistic):           1.07e-18\nTime:                        20:46:26   Log-Likelihood:                -84.455\nNo. Observations:                  31   AIC:                             174.9\nDf Residuals:                      28   BIC:                             179.2\nDf Model:                           2                                         \nCovariance Type:            nonrobust                                         \n==============================================================================\n                 coef    std err          t      P>|t|      [0.025      0.975]\n------------------------------------------------------------------------------\nIntercept    -57.9877      8.638     -6.713      0.000     -75.682     -40.293\nGirth          4.7082      0.264     17.816      0.000       4.167       5.249\nHeight         0.3393      0.130      2.607      0.014       0.073       0.606\n==============================================================================\nOmnibus:                        0.923   Durbin-Watson:                   1.266\nProb(Omnibus):                  0.630   Jarque-Bera (JB):                0.950\nSkew:                           0.310   Prob(JB):                        0.622\nKurtosis:                       2.408   Cond. No.                         959.\n==============================================================================\n\nWarnings:\n[1] Standard Errors assume that the covariance matrix of the errors is correctly specified. \n\n\n\nIntercept   -57.987659\nGirth         4.708161\nHeight        0.339251\ndtype: float64\n"
    }
   ],
   "source": [
    "#a. Load the trees dataset\n",
    "trees = pd.read_csv(\"trees.csv\")\n",
    "\n",
    "#b. Examine the dataset head\n",
    "print(trees.head())\n",
    "\n",
    "#c. Perform a linear regression relating volume of lumber to girth and height\n",
    "#b.  Create a linear regression model for the dataframe.\n",
    "Volume, GirthHeight = dmatrices('Volume ~ Girth + Height ', data=trees, return_type='dataframe')\n",
    "model = sm.OLS(Volume, GirthHeight)\n",
    "\n",
    "fitModel = model.fit()\n",
    "print(fitModel.summary(), \"\\n\\n\\n\")\n",
    "\n",
    "print(fitModel.params)"
   ]
  },
  {
   "cell_type": "code",
   "execution_count": null,
   "metadata": {},
   "outputs": [],
   "source": []
  }
 ]
}